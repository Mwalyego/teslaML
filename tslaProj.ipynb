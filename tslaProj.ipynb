{
 "cells": [
  {
   "cell_type": "code",
   "execution_count": 1,
   "id": "bfc2c52f-c2fe-46b1-b94c-dfb3f6af3e03",
   "metadata": {},
   "outputs": [],
   "source": [
    "import pandas as pd\n",
    "import seaborn as sns\n",
    "import matplotlib.pyplot as plt\n",
    "%matplotlib inline"
   ]
  },
  {
   "cell_type": "code",
   "execution_count": 2,
   "id": "ce36f561-fd11-41cb-8e26-958652c93e02",
   "metadata": {},
   "outputs": [],
   "source": [
    "tsl=pd.read_csv(\"TESLA.csv\")"
   ]
  },
  {
   "cell_type": "code",
   "execution_count": 3,
   "id": "cc942f65-9930-48c5-9b43-c1e36e45d708",
   "metadata": {},
   "outputs": [
    {
     "data": {
      "text/html": [
       "<div>\n",
       "<style scoped>\n",
       "    .dataframe tbody tr th:only-of-type {\n",
       "        vertical-align: middle;\n",
       "    }\n",
       "\n",
       "    .dataframe tbody tr th {\n",
       "        vertical-align: top;\n",
       "    }\n",
       "\n",
       "    .dataframe thead th {\n",
       "        text-align: right;\n",
       "    }\n",
       "</style>\n",
       "<table border=\"1\" class=\"dataframe\">\n",
       "  <thead>\n",
       "    <tr style=\"text-align: right;\">\n",
       "      <th></th>\n",
       "      <th>Unnamed: 0</th>\n",
       "      <th>Date</th>\n",
       "      <th>Open</th>\n",
       "      <th>High</th>\n",
       "      <th>Low</th>\n",
       "      <th>Close</th>\n",
       "      <th>Adj Close</th>\n",
       "      <th>Volume</th>\n",
       "    </tr>\n",
       "  </thead>\n",
       "  <tbody>\n",
       "    <tr>\n",
       "      <th>0</th>\n",
       "      <td>0</td>\n",
       "      <td>6/29/10</td>\n",
       "      <td>1.266667</td>\n",
       "      <td>1.666667</td>\n",
       "      <td>1.169333</td>\n",
       "      <td>1.592667</td>\n",
       "      <td>1.592667</td>\n",
       "      <td>281494500</td>\n",
       "    </tr>\n",
       "    <tr>\n",
       "      <th>1</th>\n",
       "      <td>1</td>\n",
       "      <td>6/30/10</td>\n",
       "      <td>1.719333</td>\n",
       "      <td>2.028000</td>\n",
       "      <td>1.553333</td>\n",
       "      <td>1.588667</td>\n",
       "      <td>1.588667</td>\n",
       "      <td>257806500</td>\n",
       "    </tr>\n",
       "    <tr>\n",
       "      <th>2</th>\n",
       "      <td>2</td>\n",
       "      <td>7/1/10</td>\n",
       "      <td>1.666667</td>\n",
       "      <td>1.728000</td>\n",
       "      <td>1.351333</td>\n",
       "      <td>1.464000</td>\n",
       "      <td>1.464000</td>\n",
       "      <td>123282000</td>\n",
       "    </tr>\n",
       "    <tr>\n",
       "      <th>3</th>\n",
       "      <td>3</td>\n",
       "      <td>7/2/10</td>\n",
       "      <td>1.533333</td>\n",
       "      <td>1.540000</td>\n",
       "      <td>1.247333</td>\n",
       "      <td>1.280000</td>\n",
       "      <td>1.280000</td>\n",
       "      <td>77097000</td>\n",
       "    </tr>\n",
       "    <tr>\n",
       "      <th>4</th>\n",
       "      <td>4</td>\n",
       "      <td>7/6/10</td>\n",
       "      <td>1.333333</td>\n",
       "      <td>1.333333</td>\n",
       "      <td>1.055333</td>\n",
       "      <td>1.074000</td>\n",
       "      <td>1.074000</td>\n",
       "      <td>103003500</td>\n",
       "    </tr>\n",
       "  </tbody>\n",
       "</table>\n",
       "</div>"
      ],
      "text/plain": [
       "   Unnamed: 0     Date      Open      High       Low     Close  Adj Close  \\\n",
       "0           0  6/29/10  1.266667  1.666667  1.169333  1.592667   1.592667   \n",
       "1           1  6/30/10  1.719333  2.028000  1.553333  1.588667   1.588667   \n",
       "2           2   7/1/10  1.666667  1.728000  1.351333  1.464000   1.464000   \n",
       "3           3   7/2/10  1.533333  1.540000  1.247333  1.280000   1.280000   \n",
       "4           4   7/6/10  1.333333  1.333333  1.055333  1.074000   1.074000   \n",
       "\n",
       "      Volume  \n",
       "0  281494500  \n",
       "1  257806500  \n",
       "2  123282000  \n",
       "3   77097000  \n",
       "4  103003500  "
      ]
     },
     "execution_count": 3,
     "metadata": {},
     "output_type": "execute_result"
    }
   ],
   "source": [
    "tsl.head()"
   ]
  },
  {
   "cell_type": "code",
   "execution_count": 4,
   "id": "4efd2773-fd40-4284-ae1b-b7877c3ae1f7",
   "metadata": {},
   "outputs": [
    {
     "name": "stdout",
     "output_type": "stream",
     "text": [
      "All values in 'Close' and 'Adj Close' are identical.\n",
      "Empty DataFrame\n",
      "Columns: [Unnamed: 0, Date, Open, High, Low, Close, Adj Close, Volume]\n",
      "Index: []\n"
     ]
    }
   ],
   "source": [
    "# Check if all values in 'Close' and 'Adj Close' are the same\n",
    "comparison_result = (tsl['Close'] == tsl['Adj Close']).all()\n",
    "\n",
    "# Print the result\n",
    "if comparison_result:\n",
    "    print(\"All values in 'Close' and 'Adj Close' are identical.\")\n",
    "else:\n",
    "    print(\"There are differences between 'Close' and 'Adj Close' values.\")\n",
    "\n",
    "# Optionally: Show the rows where they are different (if any)\n",
    "differences = tsl[tsl['Close'] != tsl['Adj Close']]\n",
    "print(differences)"
   ]
  },
  {
   "cell_type": "code",
   "execution_count": 5,
   "id": "22af1e47-f3ae-4eab-b440-607d6b89134b",
   "metadata": {},
   "outputs": [
    {
     "name": "stdout",
     "output_type": "stream",
     "text": [
      "<class 'pandas.core.frame.DataFrame'>\n",
      "RangeIndex: 3637 entries, 0 to 3636\n",
      "Data columns (total 8 columns):\n",
      " #   Column      Non-Null Count  Dtype  \n",
      "---  ------      --------------  -----  \n",
      " 0   Unnamed: 0  3637 non-null   int64  \n",
      " 1   Date        3637 non-null   object \n",
      " 2   Open        3637 non-null   float64\n",
      " 3   High        3637 non-null   float64\n",
      " 4   Low         3637 non-null   float64\n",
      " 5   Close       3637 non-null   float64\n",
      " 6   Adj Close   3637 non-null   float64\n",
      " 7   Volume      3637 non-null   int64  \n",
      "dtypes: float64(5), int64(2), object(1)\n",
      "memory usage: 227.4+ KB\n"
     ]
    }
   ],
   "source": [
    "tsl.info()"
   ]
  },
  {
   "cell_type": "code",
   "execution_count": 6,
   "id": "e1d49753-456d-4c09-b1ee-df2c22508b8d",
   "metadata": {},
   "outputs": [
    {
     "data": {
      "text/plain": [
       "Unnamed: 0          3635\n",
       "Date             12/6/24\n",
       "Open          377.420013\n",
       "High           389.48999\n",
       "Low           370.799988\n",
       "Close         389.220001\n",
       "Adj Close     389.220001\n",
       "Volume          81455800\n",
       "Name: 3635, dtype: object"
      ]
     },
     "execution_count": 6,
     "metadata": {},
     "output_type": "execute_result"
    }
   ],
   "source": [
    "tsl.iloc[3635]"
   ]
  },
  {
   "cell_type": "code",
   "execution_count": 7,
   "id": "f8343772-2e8d-4ef2-8755-b3725f5791dc",
   "metadata": {},
   "outputs": [
    {
     "data": {
      "text/html": [
       "<div>\n",
       "<style scoped>\n",
       "    .dataframe tbody tr th:only-of-type {\n",
       "        vertical-align: middle;\n",
       "    }\n",
       "\n",
       "    .dataframe tbody tr th {\n",
       "        vertical-align: top;\n",
       "    }\n",
       "\n",
       "    .dataframe thead th {\n",
       "        text-align: right;\n",
       "    }\n",
       "</style>\n",
       "<table border=\"1\" class=\"dataframe\">\n",
       "  <thead>\n",
       "    <tr style=\"text-align: right;\">\n",
       "      <th></th>\n",
       "      <th>Date</th>\n",
       "      <th>Close/Last</th>\n",
       "      <th>Volume</th>\n",
       "      <th>Open</th>\n",
       "      <th>High</th>\n",
       "      <th>Low</th>\n",
       "    </tr>\n",
       "  </thead>\n",
       "  <tbody>\n",
       "    <tr>\n",
       "      <th>0</th>\n",
       "      <td>09/13/2024</td>\n",
       "      <td>$230.29</td>\n",
       "      <td>59515110</td>\n",
       "      <td>$228.00</td>\n",
       "      <td>$232.67</td>\n",
       "      <td>$226.32</td>\n",
       "    </tr>\n",
       "    <tr>\n",
       "      <th>1</th>\n",
       "      <td>09/12/2024</td>\n",
       "      <td>$229.81</td>\n",
       "      <td>72020040</td>\n",
       "      <td>$224.66</td>\n",
       "      <td>$231.45</td>\n",
       "      <td>$223.83</td>\n",
       "    </tr>\n",
       "    <tr>\n",
       "      <th>2</th>\n",
       "      <td>09/11/2024</td>\n",
       "      <td>$228.13</td>\n",
       "      <td>83548630</td>\n",
       "      <td>$224.55</td>\n",
       "      <td>$228.47</td>\n",
       "      <td>$216.8003</td>\n",
       "    </tr>\n",
       "    <tr>\n",
       "      <th>3</th>\n",
       "      <td>09/10/2024</td>\n",
       "      <td>$226.17</td>\n",
       "      <td>78891140</td>\n",
       "      <td>$220.07</td>\n",
       "      <td>$226.40</td>\n",
       "      <td>$218.6377</td>\n",
       "    </tr>\n",
       "    <tr>\n",
       "      <th>4</th>\n",
       "      <td>09/09/2024</td>\n",
       "      <td>$216.27</td>\n",
       "      <td>67443520</td>\n",
       "      <td>$216.20</td>\n",
       "      <td>$219.87</td>\n",
       "      <td>$213.67</td>\n",
       "    </tr>\n",
       "  </tbody>\n",
       "</table>\n",
       "</div>"
      ],
      "text/plain": [
       "         Date Close/Last    Volume     Open     High        Low\n",
       "0  09/13/2024    $230.29  59515110  $228.00  $232.67    $226.32\n",
       "1  09/12/2024    $229.81  72020040  $224.66  $231.45    $223.83\n",
       "2  09/11/2024    $228.13  83548630  $224.55  $228.47  $216.8003\n",
       "3  09/10/2024    $226.17  78891140  $220.07  $226.40  $218.6377\n",
       "4  09/09/2024    $216.27  67443520  $216.20  $219.87    $213.67"
      ]
     },
     "execution_count": 7,
     "metadata": {},
     "output_type": "execute_result"
    }
   ],
   "source": [
    "tsl1=pd.read_csv(\"HistoricalData_1726367135218.csv\")\n",
    "tsl1.head()"
   ]
  },
  {
   "cell_type": "code",
   "execution_count": 8,
   "id": "697ff8eb-fdc4-40ec-a60b-06103908772c",
   "metadata": {},
   "outputs": [
    {
     "name": "stdout",
     "output_type": "stream",
     "text": [
      "<class 'pandas.core.frame.DataFrame'>\n",
      "RangeIndex: 2517 entries, 0 to 2516\n",
      "Data columns (total 6 columns):\n",
      " #   Column      Non-Null Count  Dtype \n",
      "---  ------      --------------  ----- \n",
      " 0   Date        2517 non-null   object\n",
      " 1   Close/Last  2517 non-null   object\n",
      " 2   Volume      2517 non-null   int64 \n",
      " 3   Open        2517 non-null   object\n",
      " 4   High        2517 non-null   object\n",
      " 5   Low         2517 non-null   object\n",
      "dtypes: int64(1), object(5)\n",
      "memory usage: 118.1+ KB\n"
     ]
    }
   ],
   "source": [
    "tsl1.info()"
   ]
  },
  {
   "cell_type": "code",
   "execution_count": 9,
   "id": "e11a5bba-4243-41e9-8197-cef87bda7e4e",
   "metadata": {},
   "outputs": [
    {
     "data": {
      "text/html": [
       "<div>\n",
       "<style scoped>\n",
       "    .dataframe tbody tr th:only-of-type {\n",
       "        vertical-align: middle;\n",
       "    }\n",
       "\n",
       "    .dataframe tbody tr th {\n",
       "        vertical-align: top;\n",
       "    }\n",
       "\n",
       "    .dataframe thead th {\n",
       "        text-align: right;\n",
       "    }\n",
       "</style>\n",
       "<table border=\"1\" class=\"dataframe\">\n",
       "  <thead>\n",
       "    <tr style=\"text-align: right;\">\n",
       "      <th></th>\n",
       "      <th>Date</th>\n",
       "      <th>Open</th>\n",
       "      <th>High</th>\n",
       "      <th>Low</th>\n",
       "      <th>Close</th>\n",
       "      <th>Adj Close</th>\n",
       "      <th>Volume</th>\n",
       "    </tr>\n",
       "  </thead>\n",
       "  <tbody>\n",
       "    <tr>\n",
       "      <th>0</th>\n",
       "      <td>2010-06-29</td>\n",
       "      <td>1.266667</td>\n",
       "      <td>1.666667</td>\n",
       "      <td>1.169333</td>\n",
       "      <td>1.592667</td>\n",
       "      <td>1.592667</td>\n",
       "      <td>281494500</td>\n",
       "    </tr>\n",
       "    <tr>\n",
       "      <th>1</th>\n",
       "      <td>2010-06-30</td>\n",
       "      <td>1.719333</td>\n",
       "      <td>2.028000</td>\n",
       "      <td>1.553333</td>\n",
       "      <td>1.588667</td>\n",
       "      <td>1.588667</td>\n",
       "      <td>257806500</td>\n",
       "    </tr>\n",
       "    <tr>\n",
       "      <th>2</th>\n",
       "      <td>2010-07-01</td>\n",
       "      <td>1.666667</td>\n",
       "      <td>1.728000</td>\n",
       "      <td>1.351333</td>\n",
       "      <td>1.464000</td>\n",
       "      <td>1.464000</td>\n",
       "      <td>123282000</td>\n",
       "    </tr>\n",
       "    <tr>\n",
       "      <th>3</th>\n",
       "      <td>2010-07-02</td>\n",
       "      <td>1.533333</td>\n",
       "      <td>1.540000</td>\n",
       "      <td>1.247333</td>\n",
       "      <td>1.280000</td>\n",
       "      <td>1.280000</td>\n",
       "      <td>77097000</td>\n",
       "    </tr>\n",
       "    <tr>\n",
       "      <th>4</th>\n",
       "      <td>2010-07-06</td>\n",
       "      <td>1.333333</td>\n",
       "      <td>1.333333</td>\n",
       "      <td>1.055333</td>\n",
       "      <td>1.074000</td>\n",
       "      <td>1.074000</td>\n",
       "      <td>103003500</td>\n",
       "    </tr>\n",
       "  </tbody>\n",
       "</table>\n",
       "</div>"
      ],
      "text/plain": [
       "         Date      Open      High       Low     Close  Adj Close     Volume\n",
       "0  2010-06-29  1.266667  1.666667  1.169333  1.592667   1.592667  281494500\n",
       "1  2010-06-30  1.719333  2.028000  1.553333  1.588667   1.588667  257806500\n",
       "2  2010-07-01  1.666667  1.728000  1.351333  1.464000   1.464000  123282000\n",
       "3  2010-07-02  1.533333  1.540000  1.247333  1.280000   1.280000   77097000\n",
       "4  2010-07-06  1.333333  1.333333  1.055333  1.074000   1.074000  103003500"
      ]
     },
     "execution_count": 9,
     "metadata": {},
     "output_type": "execute_result"
    }
   ],
   "source": [
    "tsl2=pd.read_csv(\"TSLA-2.csv\")\n",
    "tsl2.head()"
   ]
  },
  {
   "cell_type": "code",
   "execution_count": 10,
   "id": "a6f9a59b-051e-4976-a59c-58b2ed4b677d",
   "metadata": {},
   "outputs": [
    {
     "name": "stdout",
     "output_type": "stream",
     "text": [
      "All values in 'Close' and 'Adj Close' are identical.\n",
      "Empty DataFrame\n",
      "Columns: [Date, Open, High, Low, Close, Adj Close, Volume]\n",
      "Index: []\n"
     ]
    }
   ],
   "source": [
    "# Check if all values in 'Close' and 'Adj Close' are the same\n",
    "comparison_result = (tsl2['Close'] == tsl2['Adj Close']).all()\n",
    "\n",
    "# Print the result\n",
    "if comparison_result:\n",
    "    print(\"All values in 'Close' and 'Adj Close' are identical.\")\n",
    "else:\n",
    "    print(\"There are differences between 'Close' and 'Adj Close' values.\")\n",
    "\n",
    "# Optionally: Show the rows where they are different (if any)\n",
    "differences = tsl2[tsl2['Close'] != tsl2['Adj Close']]\n",
    "print(differences)"
   ]
  },
  {
   "cell_type": "code",
   "execution_count": 11,
   "id": "d30c9906-48a5-4be2-a678-b6c0b191907f",
   "metadata": {},
   "outputs": [
    {
     "name": "stdout",
     "output_type": "stream",
     "text": [
      "<class 'pandas.core.frame.DataFrame'>\n",
      "RangeIndex: 3562 entries, 0 to 3561\n",
      "Data columns (total 7 columns):\n",
      " #   Column     Non-Null Count  Dtype  \n",
      "---  ------     --------------  -----  \n",
      " 0   Date       3562 non-null   object \n",
      " 1   Open       3562 non-null   float64\n",
      " 2   High       3562 non-null   float64\n",
      " 3   Low        3562 non-null   float64\n",
      " 4   Close      3562 non-null   float64\n",
      " 5   Adj Close  3562 non-null   float64\n",
      " 6   Volume     3562 non-null   int64  \n",
      "dtypes: float64(5), int64(1), object(1)\n",
      "memory usage: 194.9+ KB\n"
     ]
    }
   ],
   "source": [
    "tsl2.info()"
   ]
  },
  {
   "cell_type": "code",
   "execution_count": 12,
   "id": "8b6d581c-43a0-4ca4-98e1-20ac8ff97e65",
   "metadata": {},
   "outputs": [
    {
     "data": {
      "text/html": [
       "<div>\n",
       "<style scoped>\n",
       "    .dataframe tbody tr th:only-of-type {\n",
       "        vertical-align: middle;\n",
       "    }\n",
       "\n",
       "    .dataframe tbody tr th {\n",
       "        vertical-align: top;\n",
       "    }\n",
       "\n",
       "    .dataframe thead th {\n",
       "        text-align: right;\n",
       "    }\n",
       "</style>\n",
       "<table border=\"1\" class=\"dataframe\">\n",
       "  <thead>\n",
       "    <tr style=\"text-align: right;\">\n",
       "      <th></th>\n",
       "      <th>Date</th>\n",
       "      <th>Open</th>\n",
       "      <th>High</th>\n",
       "      <th>Low</th>\n",
       "      <th>Close</th>\n",
       "      <th>Volume</th>\n",
       "    </tr>\n",
       "  </thead>\n",
       "  <tbody>\n",
       "    <tr>\n",
       "      <th>0</th>\n",
       "      <td>2010-06-28</td>\n",
       "      <td>1.13333</td>\n",
       "      <td>1.13333</td>\n",
       "      <td>1.133330</td>\n",
       "      <td>1.13333</td>\n",
       "      <td>0</td>\n",
       "    </tr>\n",
       "    <tr>\n",
       "      <th>1</th>\n",
       "      <td>2010-06-29</td>\n",
       "      <td>1.26667</td>\n",
       "      <td>1.66667</td>\n",
       "      <td>1.169330</td>\n",
       "      <td>1.59267</td>\n",
       "      <td>281749140</td>\n",
       "    </tr>\n",
       "    <tr>\n",
       "      <th>2</th>\n",
       "      <td>2010-06-30</td>\n",
       "      <td>1.71933</td>\n",
       "      <td>2.02800</td>\n",
       "      <td>1.553330</td>\n",
       "      <td>1.58867</td>\n",
       "      <td>257915910</td>\n",
       "    </tr>\n",
       "    <tr>\n",
       "      <th>3</th>\n",
       "      <td>2010-07-01</td>\n",
       "      <td>1.66667</td>\n",
       "      <td>1.72800</td>\n",
       "      <td>1.351330</td>\n",
       "      <td>1.46400</td>\n",
       "      <td>123447945</td>\n",
       "    </tr>\n",
       "    <tr>\n",
       "      <th>4</th>\n",
       "      <td>2010-07-02</td>\n",
       "      <td>1.53333</td>\n",
       "      <td>1.54000</td>\n",
       "      <td>1.247330</td>\n",
       "      <td>1.28000</td>\n",
       "      <td>77127105</td>\n",
       "    </tr>\n",
       "    <tr>\n",
       "      <th>5</th>\n",
       "      <td>2010-07-06</td>\n",
       "      <td>1.33333</td>\n",
       "      <td>1.33333</td>\n",
       "      <td>1.055330</td>\n",
       "      <td>1.07400</td>\n",
       "      <td>103189440</td>\n",
       "    </tr>\n",
       "    <tr>\n",
       "      <th>6</th>\n",
       "      <td>2010-07-07</td>\n",
       "      <td>1.09333</td>\n",
       "      <td>1.10867</td>\n",
       "      <td>0.998667</td>\n",
       "      <td>1.05333</td>\n",
       "      <td>103873710</td>\n",
       "    </tr>\n",
       "    <tr>\n",
       "      <th>7</th>\n",
       "      <td>2010-07-08</td>\n",
       "      <td>1.07600</td>\n",
       "      <td>1.16800</td>\n",
       "      <td>1.038000</td>\n",
       "      <td>1.16400</td>\n",
       "      <td>115793085</td>\n",
       "    </tr>\n",
       "    <tr>\n",
       "      <th>8</th>\n",
       "      <td>2010-07-09</td>\n",
       "      <td>1.17200</td>\n",
       "      <td>1.19333</td>\n",
       "      <td>1.103330</td>\n",
       "      <td>1.16000</td>\n",
       "      <td>60879090</td>\n",
       "    </tr>\n",
       "    <tr>\n",
       "      <th>9</th>\n",
       "      <td>2010-07-12</td>\n",
       "      <td>1.19667</td>\n",
       "      <td>1.20467</td>\n",
       "      <td>1.133330</td>\n",
       "      <td>1.13667</td>\n",
       "      <td>33053550</td>\n",
       "    </tr>\n",
       "  </tbody>\n",
       "</table>\n",
       "</div>"
      ],
      "text/plain": [
       "         Date     Open     High       Low    Close     Volume\n",
       "0  2010-06-28  1.13333  1.13333  1.133330  1.13333          0\n",
       "1  2010-06-29  1.26667  1.66667  1.169330  1.59267  281749140\n",
       "2  2010-06-30  1.71933  2.02800  1.553330  1.58867  257915910\n",
       "3  2010-07-01  1.66667  1.72800  1.351330  1.46400  123447945\n",
       "4  2010-07-02  1.53333  1.54000  1.247330  1.28000   77127105\n",
       "5  2010-07-06  1.33333  1.33333  1.055330  1.07400  103189440\n",
       "6  2010-07-07  1.09333  1.10867  0.998667  1.05333  103873710\n",
       "7  2010-07-08  1.07600  1.16800  1.038000  1.16400  115793085\n",
       "8  2010-07-09  1.17200  1.19333  1.103330  1.16000   60879090\n",
       "9  2010-07-12  1.19667  1.20467  1.133330  1.13667   33053550"
      ]
     },
     "execution_count": 12,
     "metadata": {},
     "output_type": "execute_result"
    }
   ],
   "source": [
    "tsl3=pd.read_csv(\"tsla_2025.csv\")\n",
    "tsl3.head(10)"
   ]
  },
  {
   "cell_type": "code",
   "execution_count": 13,
   "id": "51c5b3e3-7f1f-4372-a561-a4876c237691",
   "metadata": {},
   "outputs": [
    {
     "name": "stdout",
     "output_type": "stream",
     "text": [
      "<class 'pandas.core.frame.DataFrame'>\n",
      "RangeIndex: 3663 entries, 0 to 3662\n",
      "Data columns (total 6 columns):\n",
      " #   Column  Non-Null Count  Dtype  \n",
      "---  ------  --------------  -----  \n",
      " 0   Date    3663 non-null   object \n",
      " 1   Open    3663 non-null   float64\n",
      " 2   High    3663 non-null   float64\n",
      " 3   Low     3663 non-null   float64\n",
      " 4   Close   3663 non-null   float64\n",
      " 5   Volume  3663 non-null   int64  \n",
      "dtypes: float64(4), int64(1), object(1)\n",
      "memory usage: 171.8+ KB\n"
     ]
    }
   ],
   "source": [
    "tsl3.info()"
   ]
  },
  {
   "cell_type": "code",
   "execution_count": 14,
   "id": "96c05944-aece-4038-b2f1-97a2477f0c6f",
   "metadata": {},
   "outputs": [
    {
     "data": {
      "text/plain": [
       "Date      2024-12-06\n",
       "Open          377.42\n",
       "High          389.49\n",
       "Low            370.8\n",
       "Close         389.22\n",
       "Volume      81455834\n",
       "Name: 3635, dtype: object"
      ]
     },
     "execution_count": 14,
     "metadata": {},
     "output_type": "execute_result"
    }
   ],
   "source": [
    "tsl3.iloc[3635]"
   ]
  },
  {
   "cell_type": "code",
   "execution_count": 15,
   "id": "19c1684f-08ca-403f-a4b6-1b2894218e9c",
   "metadata": {},
   "outputs": [
    {
     "data": {
      "text/plain": [
       "Date      2025-01-15\n",
       "Open           409.9\n",
       "High           429.8\n",
       "Low          405.661\n",
       "Close         428.22\n",
       "Volume      81375460\n",
       "Name: 3660, dtype: object"
      ]
     },
     "execution_count": 15,
     "metadata": {},
     "output_type": "execute_result"
    }
   ],
   "source": [
    "tsl3.iloc[3660]"
   ]
  },
  {
   "cell_type": "code",
   "execution_count": null,
   "id": "b7d74c61-8ece-4827-819c-89bb7f21733e",
   "metadata": {},
   "outputs": [],
   "source": []
  }
 ],
 "metadata": {
  "kernelspec": {
   "display_name": "Python [conda env:base] *",
   "language": "python",
   "name": "conda-base-py"
  },
  "language_info": {
   "codemirror_mode": {
    "name": "ipython",
    "version": 3
   },
   "file_extension": ".py",
   "mimetype": "text/x-python",
   "name": "python",
   "nbconvert_exporter": "python",
   "pygments_lexer": "ipython3",
   "version": "3.12.4"
  }
 },
 "nbformat": 4,
 "nbformat_minor": 5
}
